{
 "cells": [
  {
   "cell_type": "markdown",
   "id": "e1580709",
   "metadata": {},
   "source": [
    "### Базовый SQL\n",
    "- Входные данные: база данных основана на датасете Startup Investments, опубликованном на популярной платформе для соревнований по исследованию данных Kaggle."
   ]
  },
  {
   "cell_type": "code",
   "execution_count": 2,
   "id": "8c2bb2fa",
   "metadata": {},
   "outputs": [
    {
     "data": {
      "text/html": [
       "<img src=\"https://pictures.s3.yandex.net/resources/1_Baza_dannykh_1673427320.png\"/>"
      ],
      "text/plain": [
       "<IPython.core.display.Image object>"
      ]
     },
     "execution_count": 2,
     "metadata": {},
     "output_type": "execute_result"
    }
   ],
   "source": [
    "from IPython.display import Image\n",
    "from IPython.core.display import HTML\n",
    "Image(url= \"https://pictures.s3.yandex.net/resources/1_Baza_dannykh_1673427320.png\")"
   ]
  },
  {
   "cell_type": "markdown",
   "id": "97125332",
   "metadata": {},
   "source": [
    "1. Посчитайте, сколько компаний закрылось."
   ]
  },
  {
   "cell_type": "code",
   "execution_count": null,
   "id": "0c8b7d06",
   "metadata": {},
   "outputs": [],
   "source": [
    "''' SELECT count(*)\n",
    "FROM company\n",
    "WHERE status = 'closed';\n",
    "'''"
   ]
  },
  {
   "cell_type": "markdown",
   "id": "b99675c2",
   "metadata": {},
   "source": [
    "2. Отобразите количество привлечённых средств для новостных компаний США. Используйте данные из таблицы company. Отсортируйте таблицу по убыванию значений в поле funding_total."
   ]
  },
  {
   "cell_type": "code",
   "execution_count": null,
   "id": "fc7738a0",
   "metadata": {},
   "outputs": [],
   "source": [
    "''' SELECT funding_total \n",
    "FROM company\n",
    "WHERE category_code = 'news' and country_code = 'USA'\n",
    "ORDER BY funding_total  DESC;\n",
    "'''"
   ]
  },
  {
   "cell_type": "markdown",
   "id": "3c6c4662",
   "metadata": {},
   "source": [
    "3. Найдите общую сумму сделок по покупке одних компаний другими в долларах. Отберите сделки, которые осуществлялись только за наличные с 2011 по 2013 год включительно."
   ]
  },
  {
   "cell_type": "code",
   "execution_count": null,
   "id": "59f008a3",
   "metadata": {},
   "outputs": [],
   "source": [
    "''' SELECT SUM(price_amount)\n",
    "FROM acquisition\n",
    "WHERE EXTRACT(YEAR FROM CAST (acquired_at AS timestamp)) BETWEEN 2011 and 2014\n",
    "AND term_code = 'cash';\n",
    "'''"
   ]
  },
  {
   "cell_type": "markdown",
   "id": "f735fd34",
   "metadata": {},
   "source": [
    "4. Отобразите имя, фамилию и названия аккаунтов людей в твиттере, у которых названия аккаунтов начинаются на 'Silver'."
   ]
  },
  {
   "cell_type": "code",
   "execution_count": null,
   "id": "0bd0f2f0",
   "metadata": {},
   "outputs": [],
   "source": [
    "'''SELECT first_name, last_name, twitter_username\n",
    "FROM people\n",
    "WHERE twitter_username LIKE 'Silver%';\n",
    "'''"
   ]
  },
  {
   "cell_type": "markdown",
   "id": "25b05dd7",
   "metadata": {},
   "source": [
    "5. Выведите на экран всю информацию о людях, у которых названия аккаунтов в твиттере содержат подстроку 'money', а фамилия начинается на 'K'."
   ]
  },
  {
   "cell_type": "code",
   "execution_count": null,
   "id": "94098a98",
   "metadata": {},
   "outputs": [],
   "source": [
    "'''SELECT *\n",
    "FROM people\n",
    "WHERE twitter_username LIKE '%money%'\n",
    "AND last_name LIKE 'K%';\n",
    "'''"
   ]
  },
  {
   "cell_type": "markdown",
   "id": "9535f54a",
   "metadata": {},
   "source": [
    "6. Для каждой страны отобразите общую сумму привлечённых инвестиций, которые получили компании, зарегистрированные в этой стране. Страну, в которой зарегистрирована компания, можно определить по коду страны. Отсортируйте данные по убыванию суммы."
   ]
  },
  {
   "cell_type": "code",
   "execution_count": null,
   "id": "0d09c440",
   "metadata": {},
   "outputs": [],
   "source": [
    "'''SELECT country_code, sum(funding_total)\n",
    "FROM company\n",
    "GROUP BY country_code\n",
    "ORDER BY sum(funding_total) DESC;\n",
    "'''"
   ]
  },
  {
   "cell_type": "markdown",
   "id": "0dcef05d",
   "metadata": {},
   "source": [
    "7. Составьте таблицу, в которую войдёт дата проведения раунда, а также минимальное и максимальное значения суммы инвестиций, привлечённых в эту дату.\n",
    "Оставьте в итоговой таблице только те записи, в которых минимальное значение суммы инвестиций не равно нулю и не равно максимальному значению."
   ]
  },
  {
   "cell_type": "code",
   "execution_count": null,
   "id": "2f300afa",
   "metadata": {},
   "outputs": [],
   "source": [
    "'''SELECT funded_at, MIN(raised_amount) as min, MAX(raised_amount)\n",
    "from funding_round\n",
    "GROUP BY funded_at\n",
    "HAVING (MIN(raised_amount) != 0) and (MIN(raised_amount) != MAX(raised_amount));\n",
    "'''"
   ]
  },
  {
   "cell_type": "markdown",
   "id": "1ccc5f66",
   "metadata": {},
   "source": [
    "8. Создайте поле с категориями:\n",
    "Для фондов, которые инвестируют в 100 и более компаний, назначьте категорию high_activity.\n",
    "Для фондов, которые инвестируют в 20 и более компаний до 100, назначьте категорию middle_activity.\n",
    "Если количество инвестируемых компаний фонда не достигает 20, назначьте категорию low_activity.\n",
    "Отобразите все поля таблицы fund и новое поле с категориями."
   ]
  },
  {
   "cell_type": "code",
   "execution_count": null,
   "id": "60351e09",
   "metadata": {},
   "outputs": [],
   "source": [
    "'''SELECT *,\n",
    "CASE\n",
    "WHEN invested_companies  > 100 THEN 'high_activity'\n",
    "WHEN invested_companies  >= 20and invested_companies < 100 THEN 'middle_activity'\n",
    "WHEN invested_companies  < 20 THEN 'low_activity'\n",
    "END\n",
    "FROM fund;'''"
   ]
  },
  {
   "cell_type": "markdown",
   "id": "e87e89bd",
   "metadata": {},
   "source": [
    "9. Для каждой из категорий, назначенных в предыдущем задании, посчитайте округлённое до ближайшего целого числа среднее количество инвестиционных раундов, в которых фонд принимал участие. Выведите на экран категории и среднее число инвестиционных раундов. Отсортируйте таблицу по возрастанию среднего."
   ]
  },
  {
   "cell_type": "code",
   "execution_count": null,
   "id": "b932e061",
   "metadata": {},
   "outputs": [],
   "source": [
    "'''SELECT ROUND(AVG(investment_rounds)),\n",
    "       CASE\n",
    "           WHEN invested_companies>=100 THEN 'high_activity'\n",
    "           WHEN invested_companies>=20 THEN 'middle_activity'\n",
    "           ELSE 'low_activity'\n",
    "       END AS activity\n",
    "FROM fund\n",
    "GROUP BY activity\n",
    "ORDER BY AVG(investment_rounds) ASC;\n",
    "'''"
   ]
  },
  {
   "cell_type": "markdown",
   "id": "4a9d2c12",
   "metadata": {},
   "source": [
    "10.\n",
    "Проанализируйте, в каких странах находятся фонды, которые чаще всего инвестируют в стартапы. \n",
    "Для каждой страны посчитайте минимальное, максимальное и среднее число компаний, в которые инвестировали фонды этой страны, основанные с 2010 по 2012 год включительно. Исключите страны с фондами, у которых минимальное число компаний, получивших инвестиции, равно нулю. \n",
    "Выгрузите десять самых активных стран-инвесторов: отсортируйте таблицу по среднему количеству компаний от большего к меньшему. Затем добавьте сортировку по коду страны в лексикографическом порядке."
   ]
  },
  {
   "cell_type": "code",
   "execution_count": null,
   "id": "1787d30b",
   "metadata": {},
   "outputs": [],
   "source": [
    "'''SELECT country_code,\n",
    "MAX(invested_companies),\n",
    "MIN(invested_companies),\n",
    "AVG(invested_companies)\n",
    "FROM fund\n",
    "WHERE EXTRACT (YEAR FROM CAST (founded_at AS timestamp)) BETWEEN '2010' AND '2012'\n",
    "GROUP BY country_code\n",
    "HAVING MIN(invested_companies) !=0\n",
    "ORDER BY AVG(invested_companies) DESC, country_code\n",
    "LIMIT 10;\n",
    "'''"
   ]
  },
  {
   "cell_type": "markdown",
   "id": "0ecc7f91",
   "metadata": {},
   "source": [
    "11.\n",
    "Отобразите имя и фамилию всех сотрудников стартапов. Добавьте поле с названием учебного заведения, которое окончил сотрудник, если эта информация известна."
   ]
  },
  {
   "cell_type": "code",
   "execution_count": null,
   "id": "fd459452",
   "metadata": {},
   "outputs": [],
   "source": [
    "'''SELECT p.first_name, p.last_name, e.instituition\n",
    "FROM people as p\n",
    "LEFT JOIN education as e ON e.person_id=p.id;'''"
   ]
  },
  {
   "cell_type": "markdown",
   "id": "38c59c6e",
   "metadata": {},
   "source": [
    "12.\n",
    "Для каждой компании найдите количество учебных заведений, которые окончили её сотрудники. Выведите название компании и число уникальных названий учебных заведений. Составьте топ-5 компаний по количеству университетов."
   ]
  },
  {
   "cell_type": "code",
   "execution_count": null,
   "id": "33cbf8f4",
   "metadata": {},
   "outputs": [],
   "source": [
    "'''SELECT c.name,\n",
    "COUNT(DISTINCT e.instituition)\n",
    "FROM company AS c\n",
    "JOIN people AS p ON c.id=p.company_id\n",
    "JOIN education AS e ON p.id=e.person_id\n",
    "GROUP BY c.name\n",
    "ORDER BY COUNT(DISTINCT e.instituition) DESC\n",
    "LIMIT 5;\n",
    "'''"
   ]
  },
  {
   "cell_type": "markdown",
   "id": "a12211f9",
   "metadata": {},
   "source": [
    "13.\n",
    "Составьте список с уникальными названиями закрытых компаний, для которых первый раунд финансирования оказался последним."
   ]
  },
  {
   "cell_type": "code",
   "execution_count": null,
   "id": "9c07b315",
   "metadata": {},
   "outputs": [],
   "source": [
    "'''SELECT DISTINCT name\n",
    "FROM company\n",
    "WHERE id IN (SELECT company_id\n",
    "FROM funding_round\n",
    "WHERE is_first_round = 1 AND is_last_round = 1)\n",
    "AND status = 'closed';\n",
    "'''"
   ]
  },
  {
   "cell_type": "markdown",
   "id": "fd2798b4",
   "metadata": {},
   "source": [
    "14.\n",
    "Составьте список уникальных номеров сотрудников, которые работают в компаниях, отобранных в предыдущем задании."
   ]
  },
  {
   "cell_type": "code",
   "execution_count": null,
   "id": "fcd42634",
   "metadata": {},
   "outputs": [],
   "source": [
    "'''SELECT DISTINCT p.id\n",
    "FROM people AS p\n",
    "WHERE company_id IN (SELECT id\n",
    "FROM company\n",
    "WHERE id IN (SELECT company_id\n",
    "FROM funding_round\n",
    "WHERE is_first_round = 1 AND is_last_round = 1)\n",
    "AND status = 'closed');\n",
    "'''"
   ]
  },
  {
   "cell_type": "markdown",
   "id": "5d148930",
   "metadata": {},
   "source": [
    "15.\n",
    "Составьте таблицу, куда войдут уникальные пары с номерами сотрудников из предыдущей задачи и учебным заведением, которое окончил сотрудник."
   ]
  },
  {
   "cell_type": "code",
   "execution_count": null,
   "id": "ee36f78e",
   "metadata": {},
   "outputs": [],
   "source": [
    "'''SELECT DISTINCT p.id,\n",
    "e.instituition\n",
    "FROM people AS p JOIN education AS e ON p.id = e.person_id\n",
    "WHERE company_id IN (SELECT id\n",
    "FROM company\n",
    "WHERE id IN (SELECT company_id\n",
    "FROM funding_round\n",
    "WHERE is_first_round = 1 AND is_last_round = 1)\n",
    "AND status = 'closed');\n",
    "'''"
   ]
  },
  {
   "cell_type": "markdown",
   "id": "642f0a81",
   "metadata": {},
   "source": [
    "16.\n",
    "Посчитайте количество учебных заведений для каждого сотрудника из предыдущего задания. При подсчёте учитывайте, что некоторые сотрудники могли окончить одно и то же заведение дважды."
   ]
  },
  {
   "cell_type": "code",
   "execution_count": null,
   "id": "a1fdf8b5",
   "metadata": {},
   "outputs": [],
   "source": [
    "'''SELECT DISTINCT p.id,\n",
    "COUNT(e.instituition)\n",
    "FROM people AS p JOIN education AS e ON p.id = e.person_id\n",
    "WHERE company_id IN (SELECT id\n",
    "FROM company\n",
    "WHERE id IN (SELECT company_id\n",
    "FROM funding_round\n",
    "WHERE is_first_round = 1 AND is_last_round = 1)\n",
    "AND status = 'closed')\n",
    "GROUP BY p.id ;\n",
    "'''"
   ]
  },
  {
   "cell_type": "markdown",
   "id": "368797c6",
   "metadata": {},
   "source": [
    "17.\n",
    "Дополните предыдущий запрос и выведите среднее число учебных заведений (всех, не только уникальных), которые окончили сотрудники разных компаний. Нужно вывести только одну запись, группировка здесь не понадобится."
   ]
  },
  {
   "cell_type": "code",
   "execution_count": null,
   "id": "751499c5",
   "metadata": {},
   "outputs": [],
   "source": [
    "'''SELECT AVG(total_e) FROM (SELECT DISTINCT p.id,\n",
    "COUNT(e.instituition) as total_e\n",
    "FROM people AS p JOIN education AS e ON p.id = e.person_id\n",
    "WHERE company_id IN (SELECT id\n",
    "FROM company\n",
    "WHERE id IN (SELECT company_id\n",
    "FROM funding_round\n",
    "WHERE is_first_round = 1 AND is_last_round = 1)\n",
    "AND status = 'closed')\n",
    "GROUP BY p.id) as S1;\n",
    "'''"
   ]
  },
  {
   "cell_type": "markdown",
   "id": "e5f2ca8a",
   "metadata": {},
   "source": [
    "18.\n",
    "Напишите похожий запрос: выведите среднее число учебных заведений (всех, не только уникальных), которые окончили сотрудники Facebook*.\n",
    "*(сервис, запрещённый на территории РФ)"
   ]
  },
  {
   "cell_type": "code",
   "execution_count": null,
   "id": "b2bff541",
   "metadata": {},
   "outputs": [],
   "source": [
    "'''SELECT AVG(total_e)\n",
    "FROM (SELECT p.id,\n",
    "COUNT(e.instituition) as total_e\n",
    "FROM people AS p JOIN education AS e ON p.id = e.person_id\n",
    "WHERE company_id IN (SELECT id\n",
    "FROM company\n",
    "WHERE name = 'Facebook')\n",
    "GROUP BY p.id) as S1;\n",
    "'''"
   ]
  },
  {
   "cell_type": "markdown",
   "id": "23730781",
   "metadata": {},
   "source": [
    "19.\n",
    "Составьте таблицу из полей:\n",
    "name_of_fund — название фонда;\n",
    "name_of_company — название компании;\n",
    "amount — сумма инвестиций, которую привлекла компания в раунде.\n",
    "В таблицу войдут данные о компаниях, в истории которых было больше шести важных этапов, а раунды финансирования проходили с 2012 по 2013 год включительно."
   ]
  },
  {
   "cell_type": "code",
   "execution_count": null,
   "id": "953462bd",
   "metadata": {},
   "outputs": [],
   "source": [
    "'''SELECT s1.name_of_fund, s1.name_of_company, fr.raised_amount as amount\n",
    "FROM (SELECT f.name AS name_of_fund, c.name AS name_of_company, funding_round_id\n",
    "FROM investment AS i\n",
    "LEFT JOIN fund as f ON i.fund_id=f.id\n",
    "LEFT JOIN company as c ON i.company_id=c.id\n",
    "WHERE c.milestones > 6) as s1\n",
    "LEFT JOIN funding_round as fr ON s1.funding_round_id=fr.id\n",
    "WHERE EXTRACT (YEAR FROM CAST (funded_at as timestamp)) BETWEEN 2012 and 2013;\n",
    "'''"
   ]
  },
  {
   "cell_type": "markdown",
   "id": "0e6ee2c6",
   "metadata": {},
   "source": [
    "20.\n",
    "Выгрузите таблицу, в которой будут такие поля:\n",
    "название компании-покупателя;\n",
    "сумма сделки;\n",
    "название компании, которую купили;\n",
    "сумма инвестиций, вложенных в купленную компанию;\n",
    "доля, которая отображает, во сколько раз сумма покупки превысила сумму вложенных в компанию инвестиций, округлённая до ближайшего целого числа.\n",
    "Не учитывайте те сделки, в которых сумма покупки равна нулю. Если сумма инвестиций в компанию равна нулю, исключите такую компанию из таблицы. \n",
    "Отсортируйте таблицу по сумме сделки от большей к меньшей, а затем по названию купленной компании в лексикографическом порядке. Ограничьте таблицу первыми десятью записями."
   ]
  },
  {
   "cell_type": "code",
   "execution_count": null,
   "id": "f77b9c13",
   "metadata": {},
   "outputs": [],
   "source": [
    "'''SELECT c.name, ac.price_amount, c_1.name, c_1.funding_total, ROUND(ac.price_amount/c_1.funding_total)\n",
    "FROM acquisition AS ac \n",
    "LEFT JOIN company AS c ON ac.acquiring_company_id=c.id\n",
    "LEFT JOIN company AS c_1 ON ac.acquired_company_id=c_1.id\n",
    "WHERE ac.price_amount != 0 and c_1.funding_total !=0\n",
    "ORDER BY ac.price_amount DESC,c_1.name\n",
    "LIMIT 10;\n",
    "'''"
   ]
  },
  {
   "cell_type": "markdown",
   "id": "67da3202",
   "metadata": {},
   "source": [
    "21.\n",
    "Выгрузите таблицу, в которую войдут названия компаний из категории social, получившие финансирование с 2010 по 2013 год включительно. Проверьте, что сумма инвестиций не равна нулю. Выведите также номер месяца, в котором проходил раунд финансирования."
   ]
  },
  {
   "cell_type": "code",
   "execution_count": null,
   "id": "5a6fd312",
   "metadata": {},
   "outputs": [],
   "source": [
    "'''SELECT c.name,\n",
    "EXTRACT(MONTH FROM CAST(funded_at AS date))\n",
    "FROM company AS c\n",
    "LEFT OUTER JOIN funding_round AS f ON c.id = f.company_id\n",
    "WHERE EXTRACT(YEAR FROM CAST(funded_at AS date)) BETWEEN 2010 and 2013\n",
    "AND c.category_code = 'social'\n",
    "AND f.raised_amount  !=0 ;\n",
    "'''"
   ]
  },
  {
   "cell_type": "markdown",
   "id": "fae926b7",
   "metadata": {},
   "source": [
    "22.\n",
    "Отберите данные по месяцам с 2010 по 2013 год, когда проходили инвестиционные раунды. Сгруппируйте данные по номеру месяца и получите таблицу, в которой будут поля:\n",
    "номер месяца, в котором проходили раунды;\n",
    "количество уникальных названий фондов из США, которые инвестировали в этом месяце;\n",
    "количество компаний, купленных за этот месяц;\n",
    "общая сумма сделок по покупкам в этом месяце."
   ]
  },
  {
   "cell_type": "code",
   "execution_count": null,
   "id": "71f06a53",
   "metadata": {},
   "outputs": [],
   "source": [
    "'''WITH s1 AS (SELECT EXTRACT (MONTH FROM CAST (funded_at as timestamp)) as month, COUNT(DISTINCT(f.name)) as count_of_fund \n",
    "FROM funding_round AS fr\n",
    "LEFT JOIN investment AS i ON fr.id=i.funding_round_id\n",
    "LEFT JOIN fund AS f ON i.fund_id=f.id\n",
    "WHERE EXTRACT (YEAR FROM CAST (funded_at as timestamp)) BETWEEN 2010 and 2013\n",
    "AND f.country_code = 'USA'\n",
    "GROUP BY month),\n",
    "\n",
    "s2 AS (SELECT EXTRACT (MONTH FROM CAST (acquired_at as timestamp)) as month, COUNT(acquired_company_id) as count_of_company, SUM(price_amount ) as sum\n",
    "FROM acquisition AS ac\n",
    "WHERE EXTRACT (YEAR FROM CAST (acquired_at as timestamp)) BETWEEN 2010 and 2013\n",
    "GROUP BY month)\n",
    "\n",
    "SELECT s1.month, s1.count_of_fund,s2.count_of_company,s2.sum\n",
    "FROM s1\n",
    "LEFT JOIN s2 ON s1.month=s2.month;\n",
    "'''"
   ]
  },
  {
   "cell_type": "markdown",
   "id": "6fd4661f",
   "metadata": {},
   "source": [
    "23.\n",
    "Составьте сводную таблицу и выведите среднюю сумму инвестиций для стран, в которых есть стартапы, зарегистрированные в 2011, 2012 и 2013 годах. Данные за каждый год должны быть в отдельном поле. Отсортируйте таблицу по среднему значению инвестиций за 2011 год от большего к меньшему."
   ]
  },
  {
   "cell_type": "code",
   "execution_count": null,
   "id": "1741ae38",
   "metadata": {},
   "outputs": [],
   "source": [
    "WITH y2011 AS (SELECT AVG(funding_total) as avg_2011, country_code\n",
    "FROM company\n",
    "WHERE EXTRACT(YEAR FROM founded_at) = 2011\n",
    "GROUP BY country_code),\n",
    "y2012 AS (SELECT AVG(funding_total) as AVG_2012, country_code\n",
    "FROM company\n",
    "WHERE EXTRACT(YEAR FROM founded_at) = 2012\n",
    "GROUP BY country_code),\n",
    "y2013 AS (SELECT AVG(funding_total) as AVG_2013, country_code\n",
    "FROM company\n",
    "WHERE EXTRACT(YEAR FROM founded_at) = 2013\n",
    "GROUP BY country_code)\n",
    "SELECT y2011.country_code, avg_2011, avg_2012, avg_2013\n",
    "FROM y2011\n",
    "INNER JOIN y2012 ON y2011.country_code=y2012.country_code\n",
    "INNER JOIN y2013 ON y2012.country_code=y2013.country_code\n",
    "ORDER BY avg_2011 DESC;"
   ]
  }
 ],
 "metadata": {
  "kernelspec": {
   "display_name": "Python 3 (ipykernel)",
   "language": "python",
   "name": "python3"
  },
  "language_info": {
   "codemirror_mode": {
    "name": "ipython",
    "version": 3
   },
   "file_extension": ".py",
   "mimetype": "text/x-python",
   "name": "python",
   "nbconvert_exporter": "python",
   "pygments_lexer": "ipython3",
   "version": "3.9.12"
  }
 },
 "nbformat": 4,
 "nbformat_minor": 5
}
